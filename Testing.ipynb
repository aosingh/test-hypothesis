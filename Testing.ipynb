{
 "cells": [
  {
   "cell_type": "code",
   "execution_count": 6,
   "metadata": {
    "collapsed": false
   },
   "outputs": [
    {
     "name": "stdout",
     "output_type": "stream",
     "text": [
      "Populating the interactive namespace from numpy and matplotlib\n"
     ]
    }
   ],
   "source": [
    "%pylab inline"
   ]
  },
  {
   "cell_type": "code",
   "execution_count": 1,
   "metadata": {
    "collapsed": true
   },
   "outputs": [],
   "source": [
    "import pandas as pd"
   ]
  },
  {
   "cell_type": "markdown",
   "metadata": {},
   "source": [
    "# Read the CSV"
   ]
  },
  {
   "cell_type": "code",
   "execution_count": 2,
   "metadata": {
    "collapsed": true
   },
   "outputs": [],
   "source": [
    "df = pd.read_csv(\"test - Sheet1.csv\")"
   ]
  },
  {
   "cell_type": "code",
   "execution_count": 107,
   "metadata": {
    "collapsed": false
   },
   "outputs": [
    {
     "data": {
      "text/html": [
       "<div>\n",
       "<table border=\"1\" class=\"dataframe\">\n",
       "  <thead>\n",
       "    <tr style=\"text-align: right;\">\n",
       "      <th></th>\n",
       "      <th>Column1</th>\n",
       "      <th>Total Idlength</th>\n",
       "      <th>Idcount</th>\n",
       "      <th>No. of Comments</th>\n",
       "      <th>comment length</th>\n",
       "      <th>complexity</th>\n",
       "      <th>Function Count</th>\n",
       "      <th>Inheritance Count</th>\n",
       "      <th>DIT</th>\n",
       "      <th>Lines of Code</th>\n",
       "      <th>BlankLines</th>\n",
       "      <th>Char Count</th>\n",
       "      <th>Max Function Complexity</th>\n",
       "      <th>Avg. Id Length</th>\n",
       "      <th>Complexity2</th>\n",
       "      <th>Comments%</th>\n",
       "      <th>Grades</th>\n",
       "    </tr>\n",
       "  </thead>\n",
       "  <tbody>\n",
       "    <tr>\n",
       "      <th>0</th>\n",
       "      <td>395</td>\n",
       "      <td>473</td>\n",
       "      <td>83</td>\n",
       "      <td>75</td>\n",
       "      <td>2579</td>\n",
       "      <td>90</td>\n",
       "      <td>15</td>\n",
       "      <td>0</td>\n",
       "      <td>0</td>\n",
       "      <td>334</td>\n",
       "      <td>22</td>\n",
       "      <td>7245</td>\n",
       "      <td>37</td>\n",
       "      <td>5.698795</td>\n",
       "      <td>6.000000</td>\n",
       "      <td>24.038462</td>\n",
       "      <td>94.588235</td>\n",
       "    </tr>\n",
       "    <tr>\n",
       "      <th>1</th>\n",
       "      <td>396</td>\n",
       "      <td>463</td>\n",
       "      <td>81</td>\n",
       "      <td>55</td>\n",
       "      <td>1591</td>\n",
       "      <td>94</td>\n",
       "      <td>19</td>\n",
       "      <td>0</td>\n",
       "      <td>0</td>\n",
       "      <td>275</td>\n",
       "      <td>25</td>\n",
       "      <td>5629</td>\n",
       "      <td>18</td>\n",
       "      <td>5.716049</td>\n",
       "      <td>4.947368</td>\n",
       "      <td>22.000000</td>\n",
       "      <td>100.862745</td>\n",
       "    </tr>\n",
       "    <tr>\n",
       "      <th>2</th>\n",
       "      <td>398</td>\n",
       "      <td>873</td>\n",
       "      <td>135</td>\n",
       "      <td>77</td>\n",
       "      <td>1988</td>\n",
       "      <td>96</td>\n",
       "      <td>20</td>\n",
       "      <td>0</td>\n",
       "      <td>0</td>\n",
       "      <td>476</td>\n",
       "      <td>71</td>\n",
       "      <td>9344</td>\n",
       "      <td>24</td>\n",
       "      <td>6.466667</td>\n",
       "      <td>4.800000</td>\n",
       "      <td>19.012346</td>\n",
       "      <td>103.196078</td>\n",
       "    </tr>\n",
       "    <tr>\n",
       "      <th>3</th>\n",
       "      <td>424</td>\n",
       "      <td>649</td>\n",
       "      <td>89</td>\n",
       "      <td>76</td>\n",
       "      <td>2791</td>\n",
       "      <td>91</td>\n",
       "      <td>19</td>\n",
       "      <td>0</td>\n",
       "      <td>0</td>\n",
       "      <td>331</td>\n",
       "      <td>37</td>\n",
       "      <td>6254</td>\n",
       "      <td>22</td>\n",
       "      <td>7.292135</td>\n",
       "      <td>4.789474</td>\n",
       "      <td>25.850340</td>\n",
       "      <td>105.000000</td>\n",
       "    </tr>\n",
       "    <tr>\n",
       "      <th>4</th>\n",
       "      <td>458</td>\n",
       "      <td>298</td>\n",
       "      <td>41</td>\n",
       "      <td>83</td>\n",
       "      <td>2492</td>\n",
       "      <td>86</td>\n",
       "      <td>11</td>\n",
       "      <td>0</td>\n",
       "      <td>0</td>\n",
       "      <td>360</td>\n",
       "      <td>22</td>\n",
       "      <td>6211</td>\n",
       "      <td>35</td>\n",
       "      <td>7.268293</td>\n",
       "      <td>7.818182</td>\n",
       "      <td>24.556213</td>\n",
       "      <td>25.333333</td>\n",
       "    </tr>\n",
       "    <tr>\n",
       "      <th>5</th>\n",
       "      <td>459</td>\n",
       "      <td>1164</td>\n",
       "      <td>187</td>\n",
       "      <td>165</td>\n",
       "      <td>4764</td>\n",
       "      <td>109</td>\n",
       "      <td>23</td>\n",
       "      <td>0</td>\n",
       "      <td>0</td>\n",
       "      <td>613</td>\n",
       "      <td>98</td>\n",
       "      <td>11197</td>\n",
       "      <td>22</td>\n",
       "      <td>6.224599</td>\n",
       "      <td>4.739130</td>\n",
       "      <td>32.038835</td>\n",
       "      <td>98.784314</td>\n",
       "    </tr>\n",
       "    <tr>\n",
       "      <th>6</th>\n",
       "      <td>475</td>\n",
       "      <td>296</td>\n",
       "      <td>47</td>\n",
       "      <td>19</td>\n",
       "      <td>671</td>\n",
       "      <td>63</td>\n",
       "      <td>5</td>\n",
       "      <td>0</td>\n",
       "      <td>0</td>\n",
       "      <td>222</td>\n",
       "      <td>22</td>\n",
       "      <td>4579</td>\n",
       "      <td>30</td>\n",
       "      <td>6.297872</td>\n",
       "      <td>12.600000</td>\n",
       "      <td>9.500000</td>\n",
       "      <td>25.000000</td>\n",
       "    </tr>\n",
       "    <tr>\n",
       "      <th>7</th>\n",
       "      <td>481</td>\n",
       "      <td>602</td>\n",
       "      <td>82</td>\n",
       "      <td>67</td>\n",
       "      <td>2962</td>\n",
       "      <td>93</td>\n",
       "      <td>16</td>\n",
       "      <td>0</td>\n",
       "      <td>0</td>\n",
       "      <td>298</td>\n",
       "      <td>20</td>\n",
       "      <td>6469</td>\n",
       "      <td>24</td>\n",
       "      <td>7.341463</td>\n",
       "      <td>5.812500</td>\n",
       "      <td>24.100719</td>\n",
       "      <td>77.117647</td>\n",
       "    </tr>\n",
       "    <tr>\n",
       "      <th>8</th>\n",
       "      <td>488</td>\n",
       "      <td>482</td>\n",
       "      <td>59</td>\n",
       "      <td>92</td>\n",
       "      <td>2334</td>\n",
       "      <td>70</td>\n",
       "      <td>16</td>\n",
       "      <td>0</td>\n",
       "      <td>0</td>\n",
       "      <td>283</td>\n",
       "      <td>33</td>\n",
       "      <td>4874</td>\n",
       "      <td>15</td>\n",
       "      <td>8.169492</td>\n",
       "      <td>4.375000</td>\n",
       "      <td>36.800000</td>\n",
       "      <td>25.000000</td>\n",
       "    </tr>\n",
       "    <tr>\n",
       "      <th>9</th>\n",
       "      <td>491</td>\n",
       "      <td>730</td>\n",
       "      <td>94</td>\n",
       "      <td>75</td>\n",
       "      <td>2274</td>\n",
       "      <td>96</td>\n",
       "      <td>19</td>\n",
       "      <td>0</td>\n",
       "      <td>0</td>\n",
       "      <td>380</td>\n",
       "      <td>38</td>\n",
       "      <td>7990</td>\n",
       "      <td>27</td>\n",
       "      <td>7.765957</td>\n",
       "      <td>5.052632</td>\n",
       "      <td>21.929825</td>\n",
       "      <td>103.196078</td>\n",
       "    </tr>\n",
       "    <tr>\n",
       "      <th>10</th>\n",
       "      <td>494</td>\n",
       "      <td>379</td>\n",
       "      <td>50</td>\n",
       "      <td>54</td>\n",
       "      <td>1792</td>\n",
       "      <td>76</td>\n",
       "      <td>16</td>\n",
       "      <td>0</td>\n",
       "      <td>0</td>\n",
       "      <td>271</td>\n",
       "      <td>24</td>\n",
       "      <td>5480</td>\n",
       "      <td>23</td>\n",
       "      <td>7.580000</td>\n",
       "      <td>4.750000</td>\n",
       "      <td>21.862348</td>\n",
       "      <td>17.980392</td>\n",
       "    </tr>\n",
       "    <tr>\n",
       "      <th>11</th>\n",
       "      <td>501</td>\n",
       "      <td>827</td>\n",
       "      <td>115</td>\n",
       "      <td>73</td>\n",
       "      <td>3258</td>\n",
       "      <td>88</td>\n",
       "      <td>15</td>\n",
       "      <td>0</td>\n",
       "      <td>0</td>\n",
       "      <td>434</td>\n",
       "      <td>63</td>\n",
       "      <td>8276</td>\n",
       "      <td>24</td>\n",
       "      <td>7.191304</td>\n",
       "      <td>5.866667</td>\n",
       "      <td>19.676550</td>\n",
       "      <td>56.058824</td>\n",
       "    </tr>\n",
       "    <tr>\n",
       "      <th>12</th>\n",
       "      <td>520</td>\n",
       "      <td>731</td>\n",
       "      <td>111</td>\n",
       "      <td>53</td>\n",
       "      <td>1884</td>\n",
       "      <td>99</td>\n",
       "      <td>20</td>\n",
       "      <td>0</td>\n",
       "      <td>0</td>\n",
       "      <td>399</td>\n",
       "      <td>65</td>\n",
       "      <td>8107</td>\n",
       "      <td>20</td>\n",
       "      <td>6.585586</td>\n",
       "      <td>4.950000</td>\n",
       "      <td>15.868263</td>\n",
       "      <td>53.372549</td>\n",
       "    </tr>\n",
       "    <tr>\n",
       "      <th>13</th>\n",
       "      <td>523</td>\n",
       "      <td>356</td>\n",
       "      <td>54</td>\n",
       "      <td>34</td>\n",
       "      <td>1386</td>\n",
       "      <td>57</td>\n",
       "      <td>13</td>\n",
       "      <td>0</td>\n",
       "      <td>0</td>\n",
       "      <td>232</td>\n",
       "      <td>26</td>\n",
       "      <td>3265</td>\n",
       "      <td>30</td>\n",
       "      <td>6.592593</td>\n",
       "      <td>4.384615</td>\n",
       "      <td>16.504854</td>\n",
       "      <td>2.941176</td>\n",
       "    </tr>\n",
       "    <tr>\n",
       "      <th>14</th>\n",
       "      <td>529</td>\n",
       "      <td>617</td>\n",
       "      <td>82</td>\n",
       "      <td>82</td>\n",
       "      <td>2595</td>\n",
       "      <td>83</td>\n",
       "      <td>15</td>\n",
       "      <td>0</td>\n",
       "      <td>0</td>\n",
       "      <td>364</td>\n",
       "      <td>30</td>\n",
       "      <td>6171</td>\n",
       "      <td>20</td>\n",
       "      <td>7.524390</td>\n",
       "      <td>5.533333</td>\n",
       "      <td>24.550898</td>\n",
       "      <td>101.725490</td>\n",
       "    </tr>\n",
       "    <tr>\n",
       "      <th>15</th>\n",
       "      <td>531</td>\n",
       "      <td>705</td>\n",
       "      <td>101</td>\n",
       "      <td>101</td>\n",
       "      <td>4521</td>\n",
       "      <td>128</td>\n",
       "      <td>24</td>\n",
       "      <td>0</td>\n",
       "      <td>0</td>\n",
       "      <td>441</td>\n",
       "      <td>60</td>\n",
       "      <td>11142</td>\n",
       "      <td>27</td>\n",
       "      <td>6.980198</td>\n",
       "      <td>5.333333</td>\n",
       "      <td>26.509186</td>\n",
       "      <td>78.666667</td>\n",
       "    </tr>\n",
       "    <tr>\n",
       "      <th>16</th>\n",
       "      <td>533</td>\n",
       "      <td>379</td>\n",
       "      <td>63</td>\n",
       "      <td>62</td>\n",
       "      <td>2603</td>\n",
       "      <td>73</td>\n",
       "      <td>12</td>\n",
       "      <td>0</td>\n",
       "      <td>0</td>\n",
       "      <td>337</td>\n",
       "      <td>22</td>\n",
       "      <td>7095</td>\n",
       "      <td>21</td>\n",
       "      <td>6.015873</td>\n",
       "      <td>6.083333</td>\n",
       "      <td>19.682540</td>\n",
       "      <td>103.196078</td>\n",
       "    </tr>\n",
       "    <tr>\n",
       "      <th>17</th>\n",
       "      <td>535</td>\n",
       "      <td>644</td>\n",
       "      <td>102</td>\n",
       "      <td>8</td>\n",
       "      <td>502</td>\n",
       "      <td>136</td>\n",
       "      <td>20</td>\n",
       "      <td>0</td>\n",
       "      <td>0</td>\n",
       "      <td>379</td>\n",
       "      <td>37</td>\n",
       "      <td>8238</td>\n",
       "      <td>69</td>\n",
       "      <td>6.313725</td>\n",
       "      <td>6.800000</td>\n",
       "      <td>2.339181</td>\n",
       "      <td>57.000000</td>\n",
       "    </tr>\n",
       "    <tr>\n",
       "      <th>18</th>\n",
       "      <td>539</td>\n",
       "      <td>331</td>\n",
       "      <td>42</td>\n",
       "      <td>52</td>\n",
       "      <td>2661</td>\n",
       "      <td>142</td>\n",
       "      <td>13</td>\n",
       "      <td>0</td>\n",
       "      <td>0</td>\n",
       "      <td>349</td>\n",
       "      <td>15</td>\n",
       "      <td>8700</td>\n",
       "      <td>21</td>\n",
       "      <td>7.880952</td>\n",
       "      <td>10.923077</td>\n",
       "      <td>15.568862</td>\n",
       "      <td>25.333333</td>\n",
       "    </tr>\n",
       "    <tr>\n",
       "      <th>19</th>\n",
       "      <td>542</td>\n",
       "      <td>420</td>\n",
       "      <td>66</td>\n",
       "      <td>72</td>\n",
       "      <td>2405</td>\n",
       "      <td>87</td>\n",
       "      <td>8</td>\n",
       "      <td>0</td>\n",
       "      <td>0</td>\n",
       "      <td>349</td>\n",
       "      <td>37</td>\n",
       "      <td>6666</td>\n",
       "      <td>39</td>\n",
       "      <td>6.363636</td>\n",
       "      <td>10.875000</td>\n",
       "      <td>23.076923</td>\n",
       "      <td>32.941176</td>\n",
       "    </tr>\n",
       "    <tr>\n",
       "      <th>20</th>\n",
       "      <td>544</td>\n",
       "      <td>306</td>\n",
       "      <td>45</td>\n",
       "      <td>18</td>\n",
       "      <td>2411</td>\n",
       "      <td>52</td>\n",
       "      <td>8</td>\n",
       "      <td>0</td>\n",
       "      <td>0</td>\n",
       "      <td>188</td>\n",
       "      <td>16</td>\n",
       "      <td>4781</td>\n",
       "      <td>14</td>\n",
       "      <td>6.800000</td>\n",
       "      <td>6.500000</td>\n",
       "      <td>10.465116</td>\n",
       "      <td>0.000000</td>\n",
       "    </tr>\n",
       "    <tr>\n",
       "      <th>21</th>\n",
       "      <td>547</td>\n",
       "      <td>349</td>\n",
       "      <td>48</td>\n",
       "      <td>22</td>\n",
       "      <td>780</td>\n",
       "      <td>82</td>\n",
       "      <td>9</td>\n",
       "      <td>0</td>\n",
       "      <td>0</td>\n",
       "      <td>306</td>\n",
       "      <td>26</td>\n",
       "      <td>4960</td>\n",
       "      <td>38</td>\n",
       "      <td>7.270833</td>\n",
       "      <td>9.111111</td>\n",
       "      <td>7.857143</td>\n",
       "      <td>25.333333</td>\n",
       "    </tr>\n",
       "    <tr>\n",
       "      <th>22</th>\n",
       "      <td>553</td>\n",
       "      <td>496</td>\n",
       "      <td>80</td>\n",
       "      <td>52</td>\n",
       "      <td>2152</td>\n",
       "      <td>103</td>\n",
       "      <td>8</td>\n",
       "      <td>0</td>\n",
       "      <td>0</td>\n",
       "      <td>359</td>\n",
       "      <td>11</td>\n",
       "      <td>6823</td>\n",
       "      <td>36</td>\n",
       "      <td>6.200000</td>\n",
       "      <td>12.875000</td>\n",
       "      <td>14.942529</td>\n",
       "      <td>55.411765</td>\n",
       "    </tr>\n",
       "  </tbody>\n",
       "</table>\n",
       "</div>"
      ],
      "text/plain": [
       "    Column1  Total Idlength  Idcount  No. of Comments  comment length  \\\n",
       "0       395             473       83               75            2579   \n",
       "1       396             463       81               55            1591   \n",
       "2       398             873      135               77            1988   \n",
       "3       424             649       89               76            2791   \n",
       "4       458             298       41               83            2492   \n",
       "5       459            1164      187              165            4764   \n",
       "6       475             296       47               19             671   \n",
       "7       481             602       82               67            2962   \n",
       "8       488             482       59               92            2334   \n",
       "9       491             730       94               75            2274   \n",
       "10      494             379       50               54            1792   \n",
       "11      501             827      115               73            3258   \n",
       "12      520             731      111               53            1884   \n",
       "13      523             356       54               34            1386   \n",
       "14      529             617       82               82            2595   \n",
       "15      531             705      101              101            4521   \n",
       "16      533             379       63               62            2603   \n",
       "17      535             644      102                8             502   \n",
       "18      539             331       42               52            2661   \n",
       "19      542             420       66               72            2405   \n",
       "20      544             306       45               18            2411   \n",
       "21      547             349       48               22             780   \n",
       "22      553             496       80               52            2152   \n",
       "\n",
       "    complexity  Function Count  Inheritance Count  DIT  Lines of Code  \\\n",
       "0           90              15                  0    0            334   \n",
       "1           94              19                  0    0            275   \n",
       "2           96              20                  0    0            476   \n",
       "3           91              19                  0    0            331   \n",
       "4           86              11                  0    0            360   \n",
       "5          109              23                  0    0            613   \n",
       "6           63               5                  0    0            222   \n",
       "7           93              16                  0    0            298   \n",
       "8           70              16                  0    0            283   \n",
       "9           96              19                  0    0            380   \n",
       "10          76              16                  0    0            271   \n",
       "11          88              15                  0    0            434   \n",
       "12          99              20                  0    0            399   \n",
       "13          57              13                  0    0            232   \n",
       "14          83              15                  0    0            364   \n",
       "15         128              24                  0    0            441   \n",
       "16          73              12                  0    0            337   \n",
       "17         136              20                  0    0            379   \n",
       "18         142              13                  0    0            349   \n",
       "19          87               8                  0    0            349   \n",
       "20          52               8                  0    0            188   \n",
       "21          82               9                  0    0            306   \n",
       "22         103               8                  0    0            359   \n",
       "\n",
       "    BlankLines  Char Count  Max Function Complexity  Avg. Id Length  \\\n",
       "0           22        7245                       37        5.698795   \n",
       "1           25        5629                       18        5.716049   \n",
       "2           71        9344                       24        6.466667   \n",
       "3           37        6254                       22        7.292135   \n",
       "4           22        6211                       35        7.268293   \n",
       "5           98       11197                       22        6.224599   \n",
       "6           22        4579                       30        6.297872   \n",
       "7           20        6469                       24        7.341463   \n",
       "8           33        4874                       15        8.169492   \n",
       "9           38        7990                       27        7.765957   \n",
       "10          24        5480                       23        7.580000   \n",
       "11          63        8276                       24        7.191304   \n",
       "12          65        8107                       20        6.585586   \n",
       "13          26        3265                       30        6.592593   \n",
       "14          30        6171                       20        7.524390   \n",
       "15          60       11142                       27        6.980198   \n",
       "16          22        7095                       21        6.015873   \n",
       "17          37        8238                       69        6.313725   \n",
       "18          15        8700                       21        7.880952   \n",
       "19          37        6666                       39        6.363636   \n",
       "20          16        4781                       14        6.800000   \n",
       "21          26        4960                       38        7.270833   \n",
       "22          11        6823                       36        6.200000   \n",
       "\n",
       "    Complexity2  Comments%      Grades  \n",
       "0      6.000000  24.038462   94.588235  \n",
       "1      4.947368  22.000000  100.862745  \n",
       "2      4.800000  19.012346  103.196078  \n",
       "3      4.789474  25.850340  105.000000  \n",
       "4      7.818182  24.556213   25.333333  \n",
       "5      4.739130  32.038835   98.784314  \n",
       "6     12.600000   9.500000   25.000000  \n",
       "7      5.812500  24.100719   77.117647  \n",
       "8      4.375000  36.800000   25.000000  \n",
       "9      5.052632  21.929825  103.196078  \n",
       "10     4.750000  21.862348   17.980392  \n",
       "11     5.866667  19.676550   56.058824  \n",
       "12     4.950000  15.868263   53.372549  \n",
       "13     4.384615  16.504854    2.941176  \n",
       "14     5.533333  24.550898  101.725490  \n",
       "15     5.333333  26.509186   78.666667  \n",
       "16     6.083333  19.682540  103.196078  \n",
       "17     6.800000   2.339181   57.000000  \n",
       "18    10.923077  15.568862   25.333333  \n",
       "19    10.875000  23.076923   32.941176  \n",
       "20     6.500000  10.465116    0.000000  \n",
       "21     9.111111   7.857143   25.333333  \n",
       "22    12.875000  14.942529   55.411765  "
      ]
     },
     "execution_count": 107,
     "metadata": {},
     "output_type": "execute_result"
    }
   ],
   "source": [
    "df"
   ]
  },
  {
   "cell_type": "code",
   "execution_count": 18,
   "metadata": {
    "collapsed": false
   },
   "outputs": [
    {
     "data": {
      "text/plain": [
       "<matplotlib.axes._subplots.AxesSubplot at 0x7fe4ae41b410>"
      ]
     },
     "execution_count": 18,
     "metadata": {},
     "output_type": "execute_result"
    },
    {
     "data": {
      "image/png": "[encoded data removed]",
      "text/plain": [
       "<matplotlib.figure.Figure at 0x7fe4ae43a850>"
      ]
     },
     "metadata": {},
     "output_type": "display_data"
    }
   ],
   "source": [
    "df['Grades'].hist()"
   ]
  },
  {
   "cell_type": "code",
   "execution_count": 13,
   "metadata": {
    "collapsed": false
   },
   "outputs": [
    {
     "data": {
      "text/plain": [
       "<matplotlib.axes._subplots.AxesSubplot at 0x7fe4aeb5cfd0>"
      ]
     },
     "execution_count": 13,
     "metadata": {},
     "output_type": "execute_result"
    },
    {
     "data": {
      "image/png": "[encoded data removed]",
      "text/plain": [
       "<matplotlib.figure.Figure at 0x7fe4b72d62d0>"
      ]
     },
     "metadata": {},
     "output_type": "display_data"
    }
   ],
   "source": [
    "df['Complexity2'].hist()"
   ]
  },
  {
   "cell_type": "markdown",
   "metadata": {},
   "source": [
    "# Correlation\n",
    "\n",
    "A correlation score somewhere near to -0.4 - negative correlation, but not significantly high."
   ]
  },
  {
   "cell_type": "code",
   "execution_count": 19,
   "metadata": {
    "collapsed": false
   },
   "outputs": [
    {
     "data": {
      "text/plain": [
       "<matplotlib.axes._subplots.AxesSubplot at 0x7fe4ae406510>"
      ]
     },
     "execution_count": 19,
     "metadata": {},
     "output_type": "execute_result"
    },
    {
     "data": {
      "image/png": "[encoded data removed]",
      "text/plain": [
       "<matplotlib.figure.Figure at 0x7fe4ae32a890>"
      ]
     },
     "metadata": {},
     "output_type": "display_data"
    }
   ],
   "source": [
    "new_df = df[['Grades', 'Complexity2']].copy()\n",
    "\n",
    "import seaborn as sns\n",
    "corr = new_df.corr()\n",
    "sns.heatmap(corr, \n",
    "            xticklabels=corr.columns.values,\n",
    "            yticklabels=corr.columns.values)"
   ]
  },
  {
   "cell_type": "markdown",
   "metadata": {},
   "source": [
    "## Grades v/s Complexity"
   ]
  },
  {
   "cell_type": "code",
   "execution_count": 106,
   "metadata": {
    "collapsed": false
   },
   "outputs": [
    {
     "data": {
      "text/plain": [
       "<matplotlib.text.Text at 0x7fe4a7779a90>"
      ]
     },
     "execution_count": 106,
     "metadata": {},
     "output_type": "execute_result"
    },
    {
     "data": {
      "image/png": "[encoded data removed]",
      "text/plain": [
       "<matplotlib.figure.Figure at 0x7fe4a77bef50>"
      ]
     },
     "metadata": {},
     "output_type": "display_data"
    }
   ],
   "source": [
    "import matplotlib.pyplot as plt\n",
    "plt.scatter(new_df['Grades'], new_df['Complexity2'])\n",
    "plt.title('How do grades vary with respect to complexity?', fontsize=21)\n",
    "plt.xlabel('Grades', fontsize=18)\n",
    "plt.ylabel('Complexity', fontsize=18)"
   ]
  },
  {
   "cell_type": "markdown",
   "metadata": {},
   "source": [
    "## No fixed pattern \n",
    "\n",
    "We see that there is no fixed pattern; However, if you divide the grades in 3 ranges; there is some pattern\n",
    "\n",
    "1. 0-30  : As the grade increases, complexity increases. +ve correlation.\n",
    "2. 40-80 : Low complexity\n",
    "3. Above 80 : Low Complexity again."
   ]
  },
  {
   "cell_type": "markdown",
   "metadata": {},
   "source": [
    "# Clusters "
   ]
  },
  {
   "cell_type": "code",
   "execution_count": 100,
   "metadata": {
    "collapsed": true
   },
   "outputs": [],
   "source": [
    "from sklearn.cluster import KMeans"
   ]
  },
  {
   "cell_type": "code",
   "execution_count": 101,
   "metadata": {
    "collapsed": false
   },
   "outputs": [
    {
     "data": {
      "text/plain": [
       "array([0, 0, 0, 0, 1, 0, 1, 2, 1, 0, 1, 2, 2, 1, 0, 2, 0, 2, 1, 1, 1, 1, 2], dtype=int32)"
      ]
     },
     "execution_count": 101,
     "metadata": {},
     "output_type": "execute_result"
    }
   ],
   "source": [
    "X = new_df\n",
    "kmeans = KMeans(n_clusters=3).fit(X)\n",
    "kmeans.labels_"
   ]
  },
  {
   "cell_type": "markdown",
   "metadata": {},
   "source": [
    "## Cluster centers\n",
    "\n",
    "Cluster centers : [Average Grade in that cluster, Average complexity in that cluster]\n",
    "\n",
    "Below are the 3 centers; Looks like the whole dataset doesnt follow a fixed pattern, but the data in each of  these clusters do."
   ]
  },
  {
   "cell_type": "code",
   "execution_count": 102,
   "metadata": {
    "collapsed": false
   },
   "outputs": [
    {
     "data": {
      "text/plain": [
       "array([[ 101.31862744,    5.24315885],\n",
       "       [  19.98474945,    7.92633169],\n",
       "       [  62.9379085 ,    6.93958333]])"
      ]
     },
     "execution_count": 102,
     "metadata": {},
     "output_type": "execute_result"
    }
   ],
   "source": [
    "kmeans.cluster_centers_"
   ]
  },
  {
   "cell_type": "code",
   "execution_count": 104,
   "metadata": {
    "collapsed": false
   },
   "outputs": [
    {
     "data": {
      "text/plain": [
       "<matplotlib.text.Text at 0x7fe4a79b6610>"
      ]
     },
     "execution_count": 104,
     "metadata": {},
     "output_type": "execute_result"
    },
    {
     "data": {
      "image/png": "[encoded data removed]",
      "text/plain": [
       "<matplotlib.figure.Figure at 0x7fe4a7952b10>"
      ]
     },
     "metadata": {},
     "output_type": "display_data"
    }
   ],
   "source": [
    "plt.scatter(X['Grades'], X['Complexity2'], c=kmeans.labels_, cmap=\"Accent\")\n",
    "plt.title(\"3 clusters\", fontsize=20)\n",
    "plt.xlabel('Grades', fontsize=18)\n",
    "plt.ylabel('Complexity', fontsize=18)"
   ]
  }
 ],
 "metadata": {
  "kernelspec": {
   "display_name": "Python 2",
   "language": "python",
   "name": "python2"
  },
  "language_info": {
   "codemirror_mode": {
    "name": "ipython",
    "version": 2
   },
   "file_extension": ".py",
   "mimetype": "text/x-python",
   "name": "python",
   "nbconvert_exporter": "python",
   "pygments_lexer": "ipython2",
   "version": "2.7.12"
  }
 },
 "nbformat": 4,
 "nbformat_minor": 2
}
